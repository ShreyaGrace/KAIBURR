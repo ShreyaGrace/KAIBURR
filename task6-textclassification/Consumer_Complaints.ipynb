{
 "cells": [
  {
   "cell_type": "markdown",
   "id": "420bbd8e",
   "metadata": {},
   "source": [
    "# Explanatory Data Analysis and Feature Engineering"
   ]
  },
  {
   "cell_type": "code",
   "execution_count": 1,
   "id": "64a7038e",
   "metadata": {},
   "outputs": [
    {
     "name": "stdout",
     "output_type": "stream",
     "text": [
      "  Date received                                            Product  \\\n",
      "0    2023-08-25  Credit reporting or other personal consumer re...   \n",
      "1    2023-08-25  Credit reporting or other personal consumer re...   \n",
      "2    2023-08-23  Credit reporting, credit repair services, or o...   \n",
      "3    2023-08-23  Credit reporting, credit repair services, or o...   \n",
      "4    2023-08-23  Credit reporting, credit repair services, or o...   \n",
      "\n",
      "        Sub-product                                              Issue  \\\n",
      "0  Credit reporting               Incorrect information on your report   \n",
      "1  Credit reporting                        Improper use of your report   \n",
      "2  Credit reporting  Problem with a credit reporting company's inve...   \n",
      "3  Credit reporting  Problem with a credit reporting company's inve...   \n",
      "4  Credit reporting  Problem with a credit reporting company's inve...   \n",
      "\n",
      "                                           Sub-issue  \\\n",
      "0                Information belongs to someone else   \n",
      "1  Credit inquiries on your report that you don't...   \n",
      "2  Their investigation did not fix an error on yo...   \n",
      "3  Was not notified of investigation status or re...   \n",
      "4  Their investigation did not fix an error on yo...   \n",
      "\n",
      "  Consumer complaint narrative Company public response  \\\n",
      "0                          NaN                     NaN   \n",
      "1                          NaN                     NaN   \n",
      "2                          NaN                     NaN   \n",
      "3                          NaN                     NaN   \n",
      "4                          NaN                     NaN   \n",
      "\n",
      "                                  Company State ZIP code Tags  \\\n",
      "0                           EQUIFAX, INC.    FL    33009  NaN   \n",
      "1                           EQUIFAX, INC.    MI    48234  NaN   \n",
      "2                           EQUIFAX, INC.    GA    30034  NaN   \n",
      "3                           EQUIFAX, INC.    CO    80249  NaN   \n",
      "4  TRANSUNION INTERMEDIATE HOLDINGS, INC.    NY    XXXXX  NaN   \n",
      "\n",
      "  Consumer consent provided? Submitted via Date sent to company  \\\n",
      "0                        NaN           Web           2023-08-25   \n",
      "1                        NaN           Web           2023-08-25   \n",
      "2                        NaN           Web           2023-08-23   \n",
      "3                        NaN           Web           2023-08-23   \n",
      "4                        NaN           Web           2023-08-23   \n",
      "\n",
      "  Company response to consumer Timely response? Consumer disputed?  \\\n",
      "0      Closed with explanation              Yes                NaN   \n",
      "1      Closed with explanation              Yes                NaN   \n",
      "2                  In progress              Yes                NaN   \n",
      "3                  In progress              Yes                NaN   \n",
      "4                  In progress              Yes                NaN   \n",
      "\n",
      "   Complaint ID  \n",
      "0       7523056  \n",
      "1       7523057  \n",
      "2       7446803  \n",
      "3       7446804  \n",
      "4       7442566  \n",
      "Credit reporting, credit repair services, or other personal consumer reports    2167566\n",
      "Debt collection                                                                  504522\n",
      "Mortgage                                                                         383525\n",
      "Credit card or prepaid card                                                      206191\n",
      "Checking or savings account                                                      181224\n",
      "Credit reporting                                                                 140429\n",
      "Credit card                                                                       90195\n",
      "Bank account or service                                                           86205\n",
      "Student loan                                                                      76337\n",
      "Money transfer, virtual currency, or money service                                58354\n",
      "Vehicle loan or lease                                                             47298\n",
      "Consumer Loan                                                                     31575\n",
      "Credit reporting or other personal consumer reports                               31298\n",
      "Payday loan, title loan, or personal loan                                         30597\n",
      "Payday loan                                                                        5541\n",
      "Money transfers                                                                    5354\n",
      "Prepaid card                                                                       3858\n",
      "Other financial service                                                            1058\n",
      "Payday loan, title loan, personal loan, or advance loan                              78\n",
      "Debt or credit management                                                            29\n",
      "Virtual currency                                                                     18\n",
      "Name: Product, dtype: int64\n"
     ]
    }
   ],
   "source": [
    "import pandas as pd\n",
    "\n",
    "data = pd.read_csv('Consumer_Complaints.csv')\n",
    "\n",
    "print(data.head())\n",
    "\n",
    "print(data['Product'].value_counts())\n"
   ]
  },
  {
   "cell_type": "code",
   "execution_count": 2,
   "id": "79c8014b",
   "metadata": {},
   "outputs": [],
   "source": [
    "category_map = {\n",
    "    'Credit reporting, credit repair services, or other personal consumer reports': 0,\n",
    "    'Debt collection': 1,\n",
    "    'Consumer Loan': 2,\n",
    "    'Mortgage': 3,\n",
    "}\n",
    "\n",
    "data['Category'] = data['Product'].map(category_map)\n",
    "\n",
    "data = data[data['Category'].notna()]\n"
   ]
  },
  {
   "cell_type": "markdown",
   "id": "92e9e690",
   "metadata": {},
   "source": [
    "# Text Pre-Processing"
   ]
  },
  {
   "cell_type": "code",
   "execution_count": 3,
   "id": "a56bbc4a",
   "metadata": {},
   "outputs": [
    {
     "name": "stderr",
     "output_type": "stream",
     "text": [
      "[nltk_data] Downloading package punkt to /Users/liraj/nltk_data...\n",
      "[nltk_data]   Package punkt is already up-to-date!\n",
      "[nltk_data] Downloading package stopwords to /Users/liraj/nltk_data...\n",
      "[nltk_data]   Package stopwords is already up-to-date!\n"
     ]
    },
    {
     "data": {
      "text/plain": [
       "True"
      ]
     },
     "execution_count": 3,
     "metadata": {},
     "output_type": "execute_result"
    }
   ],
   "source": [
    "import nltk\n",
    "from nltk.corpus import stopwords\n",
    "from nltk.stem import PorterStemmer\n",
    "from nltk.tokenize import word_tokenize\n",
    "\n",
    "nltk.download('punkt')\n",
    "nltk.download('stopwords')\n"
   ]
  },
  {
   "cell_type": "code",
   "execution_count": null,
   "id": "75eac436",
   "metadata": {},
   "outputs": [],
   "source": [
    "stemmer = PorterStemmer()\n",
    "\n",
    "def preprocess_text(text):\n",
    "    text = text.lower()\n",
    "    \n",
    "    words = word_tokenize(text)\n",
    "    \n",
    "    words = [stemmer.stem(word) for word in words if word not in stopwords.words('english')]\n",
    "    \n",
    "    text = ' '.join(words)\n",
    "    \n",
    "    return text\n",
    "data['Consumer complaint narrative'] = data['Consumer complaint narrative'].fillna('')\n",
    "data['Consumer complaint narrative'] = data['Consumer complaint narrative'].apply(preprocess_text)\n"
   ]
  },
  {
   "cell_type": "markdown",
   "id": "2836a81c",
   "metadata": {},
   "source": [
    "# Selection of Multi Classification model"
   ]
  },
  {
   "cell_type": "code",
   "execution_count": null,
   "id": "d0efd154",
   "metadata": {},
   "outputs": [],
   "source": [
    "from sklearn.model_selection import train_test_split\n",
    "from sklearn.feature_extraction.text import CountVectorizer\n",
    "from sklearn.naive_bayes import MultinomialNB\n",
    "\n",
    "X_train, X_test, y_train, y_test = train_test_split(data['Consumer complaint narrative'], data['Category'], test_size=0.2, random_state=42)\n",
    "\n",
    "vectorizer = CountVectorizer()\n",
    "\n",
    "X_train = vectorizer.fit_transform(X_train)\n",
    "\n",
    "X_test = vectorizer.transform(X_test)\n",
    "\n",
    "model = MultinomialNB()\n",
    "\n",
    "model.fit(X_train, y_train)\n"
   ]
  },
  {
   "cell_type": "markdown",
   "id": "65d45e62",
   "metadata": {},
   "source": [
    " # Comparison of model performance"
   ]
  },
  {
   "cell_type": "code",
   "execution_count": null,
   "id": "826f7ce3",
   "metadata": {},
   "outputs": [],
   "source": [
    "from sklearn.linear_model import LogisticRegression\n",
    "from sklearn.svm import LinearSVC\n",
    "\n",
    "model_lr = LogisticRegression()\n",
    "model_svc = LinearSVC()\n",
    "\n",
    "model_lr.fit(X_train, y_train)\n",
    "model_svc.fit(X_train, y_train)\n",
    "\n",
    "print('MultinomialNB:', model.score(X_test, y_test))\n",
    "print('LogisticRegression:', model_lr.score(X_test, y_test))\n",
    "print('LinearSVC:', model_svc.score(X_test, y_test))\n"
   ]
  },
  {
   "cell_type": "markdown",
   "id": "4d570e1a",
   "metadata": {},
   "source": [
    "# Model Evaluation"
   ]
  },
  {
   "cell_type": "code",
   "execution_count": null,
   "id": "a99bf939",
   "metadata": {},
   "outputs": [],
   "source": [
    "from sklearn.metrics import accuracy_score\n",
    "\n",
    "y_pred = model.predict(X_test)\n",
    "\n",
    "accuracy = accuracy_score(y_test, y_pred)\n",
    "\n",
    "print('Accuracy:', accuracy)\n"
   ]
  },
  {
   "cell_type": "markdown",
   "id": "487197ff",
   "metadata": {},
   "source": [
    " # Prediction"
   ]
  },
  {
   "cell_type": "code",
   "execution_count": null,
   "id": "62f93f44",
   "metadata": {},
   "outputs": [],
   "source": [
    "complaint = 'I\\'ve been wanting to buy a new car, but the bank is not assisting me with the loan\" \n",
    "\n",
    "complaint = preprocess_text(complaint)\n",
    "\n",
    "complaint = vectorizer.transform([complaint])\n",
    "\n",
    "category = model.predict(complaint)\n",
    "\n",
    "print('Category:', category)\n"
   ]
  },
  {
   "cell_type": "code",
   "execution_count": null,
   "id": "269add4e",
   "metadata": {},
   "outputs": [],
   "source": []
  },
  {
   "cell_type": "code",
   "execution_count": null,
   "id": "618ab6d1",
   "metadata": {},
   "outputs": [],
   "source": []
  },
  {
   "cell_type": "code",
   "execution_count": null,
   "id": "a84d1d49",
   "metadata": {},
   "outputs": [],
   "source": []
  }
 ],
 "metadata": {
  "kernelspec": {
   "display_name": "Python 3 (ipykernel)",
   "language": "python",
   "name": "python3"
  },
  "language_info": {
   "codemirror_mode": {
    "name": "ipython",
    "version": 3
   },
   "file_extension": ".py",
   "mimetype": "text/x-python",
   "name": "python",
   "nbconvert_exporter": "python",
   "pygments_lexer": "ipython3",
   "version": "3.11.4"
  }
 },
 "nbformat": 4,
 "nbformat_minor": 5
}
